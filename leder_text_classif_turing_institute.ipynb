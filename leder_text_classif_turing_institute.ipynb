{
 "cells": [
  {
   "cell_type": "markdown",
   "metadata": {},
   "source": [
    "# First experiments in Leder medical review texts  classification\n",
    "\n",
    "From https://towardsdatascience.com/multi-label-text-classification-with-scikit-learn-30714b7819c5\n"
   ]
  },
  {
   "cell_type": "code",
   "execution_count": 1,
   "metadata": {},
   "outputs": [],
   "source": [
    "%matplotlib inline\n",
    "import re\n",
    "import matplotlib\n",
    "import numpy as np\n",
    "import matplotlib.pyplot as plt\n",
    "import pandas as pd\n",
    "from sklearn.model_selection import train_test_split\n",
    "from sklearn.feature_extraction.text import TfidfVectorizer\n",
    "from sklearn.naive_bayes import MultinomialNB\n",
    "from sklearn.metrics import accuracy_score\n",
    "from sklearn.multiclass import OneVsRestClassifier\n",
    "from nltk.corpus import stopwords\n",
    "stop_words = set(stopwords.words('english'))\n",
    "from sklearn.svm import LinearSVC\n",
    "from sklearn.linear_model import LogisticRegression\n",
    "from sklearn.pipeline import Pipeline\n",
    "import seaborn as sns"
   ]
  },
  {
   "cell_type": "code",
   "execution_count": 2,
   "metadata": {},
   "outputs": [],
   "source": [
    "path = '\\\\\\\\ads\\\\filestore\\\\Deaf_Studies\\\\Deaf\\\\nfrc\\\\LeDeR confidential\\\\Data Entry\\\\Avon\\\\reviews_leder_revised_codes\\\\python_notebooks\\\\master_nvivo_df.pickle'\n",
    "master_nvivo_df = pd.read_pickle(path)"
   ]
  },
  {
   "cell_type": "markdown",
   "metadata": {},
   "source": [
    "# Get list of categories/labels\n",
    "And the number of times they are used\n"
   ]
  },
  {
   "cell_type": "code",
   "execution_count": 3,
   "metadata": {
    "scrolled": true
   },
   "outputs": [],
   "source": [
    "nvivo_flags = master_nvivo_df.select_dtypes(include=['float64'])\n"
   ]
  },
  {
   "cell_type": "code",
   "execution_count": 4,
   "metadata": {},
   "outputs": [],
   "source": [
    "nvivo_flags_counts = nvivo_flags.sum(axis = 0, skipna = True).to_frame(0).reset_index()\n",
    "nvivo_flags_counts.columns=[['label','number']]\n",
    "# need to get_level_values as comes from a created multui-index df\n",
    "nvivo_flags_counts.columns=nvivo_flags_counts.columns.get_level_values(0)\n",
    "label_count_df = nvivo_flags_counts.sort_values(['number'], ascending=False)\n",
    "label_count_df.to_csv('label_count_df.csv',index=False)"
   ]
  },
  {
   "cell_type": "code",
   "execution_count": 5,
   "metadata": {},
   "outputs": [
    {
     "data": {
      "text/html": [
       "<div>\n",
       "<style scoped>\n",
       "    .dataframe tbody tr th:only-of-type {\n",
       "        vertical-align: middle;\n",
       "    }\n",
       "\n",
       "    .dataframe tbody tr th {\n",
       "        vertical-align: top;\n",
       "    }\n",
       "\n",
       "    .dataframe thead th {\n",
       "        text-align: right;\n",
       "    }\n",
       "</style>\n",
       "<table border=\"1\" class=\"dataframe\">\n",
       "  <thead>\n",
       "    <tr style=\"text-align: right;\">\n",
       "      <th></th>\n",
       "      <th>label</th>\n",
       "      <th>number</th>\n",
       "    </tr>\n",
       "  </thead>\n",
       "  <tbody>\n",
       "    <tr>\n",
       "      <th>126</th>\n",
       "      <td>Circumstances_of_death</td>\n",
       "      <td>1453.0</td>\n",
       "    </tr>\n",
       "    <tr>\n",
       "      <th>321</th>\n",
       "      <td>MCA_comments</td>\n",
       "      <td>1231.0</td>\n",
       "    </tr>\n",
       "    <tr>\n",
       "      <th>160</th>\n",
       "      <td>DNACPR_comments</td>\n",
       "      <td>1010.0</td>\n",
       "    </tr>\n",
       "    <tr>\n",
       "      <th>135</th>\n",
       "      <td>Clinical_condition</td>\n",
       "      <td>1003.0</td>\n",
       "    </tr>\n",
       "    <tr>\n",
       "      <th>322</th>\n",
       "      <td>Medical_histories</td>\n",
       "      <td>721.0</td>\n",
       "    </tr>\n",
       "    <tr>\n",
       "      <th>269</th>\n",
       "      <td>Issues_agencies</td>\n",
       "      <td>720.0</td>\n",
       "    </tr>\n",
       "    <tr>\n",
       "      <th>463</th>\n",
       "      <td>Professional_health_support_primary</td>\n",
       "      <td>710.0</td>\n",
       "    </tr>\n",
       "    <tr>\n",
       "      <th>417</th>\n",
       "      <td>Previous_hospital_admissions</td>\n",
       "      <td>698.0</td>\n",
       "    </tr>\n",
       "    <tr>\n",
       "      <th>323</th>\n",
       "      <td>Medical_intervention_details</td>\n",
       "      <td>689.0</td>\n",
       "    </tr>\n",
       "    <tr>\n",
       "      <th>112</th>\n",
       "      <td>Care_plan_EOL</td>\n",
       "      <td>679.0</td>\n",
       "    </tr>\n",
       "    <tr>\n",
       "      <th>211</th>\n",
       "      <td>Fam_rel_seemed_good</td>\n",
       "      <td>673.0</td>\n",
       "    </tr>\n",
       "    <tr>\n",
       "      <th>145</th>\n",
       "      <td>Clinical_history_chest_infections</td>\n",
       "      <td>630.0</td>\n",
       "    </tr>\n",
       "    <tr>\n",
       "      <th>66</th>\n",
       "      <td>Any_aids_employed</td>\n",
       "      <td>613.0</td>\n",
       "    </tr>\n",
       "    <tr>\n",
       "      <th>189</th>\n",
       "      <td>Epilepsy</td>\n",
       "      <td>596.0</td>\n",
       "    </tr>\n",
       "    <tr>\n",
       "      <th>482</th>\n",
       "      <td>Reasonable_adjustments</td>\n",
       "      <td>584.0</td>\n",
       "    </tr>\n",
       "    <tr>\n",
       "      <th>233</th>\n",
       "      <td>Good_practice_care_provider</td>\n",
       "      <td>568.0</td>\n",
       "    </tr>\n",
       "    <tr>\n",
       "      <th>154</th>\n",
       "      <td>Communication_abilities</td>\n",
       "      <td>565.0</td>\n",
       "    </tr>\n",
       "    <tr>\n",
       "      <th>570</th>\n",
       "      <td>Useful_material_without_code</td>\n",
       "      <td>538.0</td>\n",
       "    </tr>\n",
       "    <tr>\n",
       "      <th>77</th>\n",
       "      <td>Best_practice</td>\n",
       "      <td>529.0</td>\n",
       "    </tr>\n",
       "    <tr>\n",
       "      <th>566</th>\n",
       "      <td>Swallowing_issues_dysphagia</td>\n",
       "      <td>501.0</td>\n",
       "    </tr>\n",
       "    <tr>\n",
       "      <th>232</th>\n",
       "      <td>Good_practice_care_coordination</td>\n",
       "      <td>501.0</td>\n",
       "    </tr>\n",
       "    <tr>\n",
       "      <th>399</th>\n",
       "      <td>Patients_family_brought_in</td>\n",
       "      <td>499.0</td>\n",
       "    </tr>\n",
       "    <tr>\n",
       "      <th>197</th>\n",
       "      <td>Fam_contact_frequently</td>\n",
       "      <td>477.0</td>\n",
       "    </tr>\n",
       "    <tr>\n",
       "      <th>325</th>\n",
       "      <td>Medications</td>\n",
       "      <td>466.0</td>\n",
       "    </tr>\n",
       "    <tr>\n",
       "      <th>202</th>\n",
       "      <td>Fam_contact_other</td>\n",
       "      <td>458.0</td>\n",
       "    </tr>\n",
       "    <tr>\n",
       "      <th>271</th>\n",
       "      <td>Issues_person</td>\n",
       "      <td>455.0</td>\n",
       "    </tr>\n",
       "    <tr>\n",
       "      <th>423</th>\n",
       "      <td>Prof_SALT</td>\n",
       "      <td>450.0</td>\n",
       "    </tr>\n",
       "    <tr>\n",
       "      <th>21</th>\n",
       "      <td>AP_raised_care_coordination</td>\n",
       "      <td>435.0</td>\n",
       "    </tr>\n",
       "    <tr>\n",
       "      <th>76</th>\n",
       "      <td>Behaviour_problems</td>\n",
       "      <td>425.0</td>\n",
       "    </tr>\n",
       "    <tr>\n",
       "      <th>576</th>\n",
       "      <td>Vision_problems_yes</td>\n",
       "      <td>410.0</td>\n",
       "    </tr>\n",
       "    <tr>\n",
       "      <th>...</th>\n",
       "      <td>...</td>\n",
       "      <td>...</td>\n",
       "    </tr>\n",
       "    <tr>\n",
       "      <th>27</th>\n",
       "      <td>Absences_1_to_4_per_month</td>\n",
       "      <td>1.0</td>\n",
       "    </tr>\n",
       "    <tr>\n",
       "      <th>92</th>\n",
       "      <td>CF_healthcare_delay_primary</td>\n",
       "      <td>1.0</td>\n",
       "    </tr>\n",
       "    <tr>\n",
       "      <th>34</th>\n",
       "      <td>Acm_Change_1Yr_over_three</td>\n",
       "      <td>1.0</td>\n",
       "    </tr>\n",
       "    <tr>\n",
       "      <th>89</th>\n",
       "      <td>CF_care_training_need</td>\n",
       "      <td>1.0</td>\n",
       "    </tr>\n",
       "    <tr>\n",
       "      <th>41</th>\n",
       "      <td>Acm_TOD_dur_LT_10years</td>\n",
       "      <td>1.0</td>\n",
       "    </tr>\n",
       "    <tr>\n",
       "      <th>518</th>\n",
       "      <td>Seizures_day</td>\n",
       "      <td>1.0</td>\n",
       "    </tr>\n",
       "    <tr>\n",
       "      <th>182</th>\n",
       "      <td>Employment_at_TOD</td>\n",
       "      <td>1.0</td>\n",
       "    </tr>\n",
       "    <tr>\n",
       "      <th>553</th>\n",
       "      <td>Swallow_breathless_eating</td>\n",
       "      <td>1.0</td>\n",
       "    </tr>\n",
       "    <tr>\n",
       "      <th>385</th>\n",
       "      <td>PT_paid</td>\n",
       "      <td>1.0</td>\n",
       "    </tr>\n",
       "    <tr>\n",
       "      <th>501</th>\n",
       "      <td>Reasonable_adjustments_quiet_space</td>\n",
       "      <td>1.0</td>\n",
       "    </tr>\n",
       "    <tr>\n",
       "      <th>479</th>\n",
       "      <td>Professionals_instructions_why_not</td>\n",
       "      <td>1.0</td>\n",
       "    </tr>\n",
       "    <tr>\n",
       "      <th>478</th>\n",
       "      <td>Professionals_giving_correct_treatment_no</td>\n",
       "      <td>1.0</td>\n",
       "    </tr>\n",
       "    <tr>\n",
       "      <th>476</th>\n",
       "      <td>Professionals_correct_followup_no</td>\n",
       "      <td>1.0</td>\n",
       "    </tr>\n",
       "    <tr>\n",
       "      <th>452</th>\n",
       "      <td>Prof_psychologist_generic</td>\n",
       "      <td>1.0</td>\n",
       "    </tr>\n",
       "    <tr>\n",
       "      <th>421</th>\n",
       "      <td>Prof_GP_no</td>\n",
       "      <td>1.0</td>\n",
       "    </tr>\n",
       "    <tr>\n",
       "      <th>395</th>\n",
       "      <td>Parents</td>\n",
       "      <td>1.0</td>\n",
       "    </tr>\n",
       "    <tr>\n",
       "      <th>536</th>\n",
       "      <td>Slow_eating</td>\n",
       "      <td>1.0</td>\n",
       "    </tr>\n",
       "    <tr>\n",
       "      <th>387</th>\n",
       "      <td>Paid_carer_agency</td>\n",
       "      <td>1.0</td>\n",
       "    </tr>\n",
       "    <tr>\n",
       "      <th>347</th>\n",
       "      <td>Number_private_occupants_3_to_5</td>\n",
       "      <td>1.0</td>\n",
       "    </tr>\n",
       "    <tr>\n",
       "      <th>186</th>\n",
       "      <td>Epi_care_plan</td>\n",
       "      <td>1.0</td>\n",
       "    </tr>\n",
       "    <tr>\n",
       "      <th>344</th>\n",
       "      <td>No_teeth</td>\n",
       "      <td>1.0</td>\n",
       "    </tr>\n",
       "    <tr>\n",
       "      <th>542</th>\n",
       "      <td>Speech_problems_yes</td>\n",
       "      <td>1.0</td>\n",
       "    </tr>\n",
       "    <tr>\n",
       "      <th>295</th>\n",
       "      <td>Last_health_check_within_3_months</td>\n",
       "      <td>1.0</td>\n",
       "    </tr>\n",
       "    <tr>\n",
       "      <th>291</th>\n",
       "      <td>Last_health_check_never</td>\n",
       "      <td>1.0</td>\n",
       "    </tr>\n",
       "    <tr>\n",
       "      <th>1</th>\n",
       "      <td>AAA_screening_no</td>\n",
       "      <td>1.0</td>\n",
       "    </tr>\n",
       "    <tr>\n",
       "      <th>220</th>\n",
       "      <td>Family_contacts_members</td>\n",
       "      <td>1.0</td>\n",
       "    </tr>\n",
       "    <tr>\n",
       "      <th>205</th>\n",
       "      <td>Fam_contact_unspecified</td>\n",
       "      <td>1.0</td>\n",
       "    </tr>\n",
       "    <tr>\n",
       "      <th>199</th>\n",
       "      <td>Fam_contact_less_than_yearly</td>\n",
       "      <td>1.0</td>\n",
       "    </tr>\n",
       "    <tr>\n",
       "      <th>195</th>\n",
       "      <td>Fam_contact_dail1y</td>\n",
       "      <td>1.0</td>\n",
       "    </tr>\n",
       "    <tr>\n",
       "      <th>0</th>\n",
       "      <td>AAA_screening</td>\n",
       "      <td>1.0</td>\n",
       "    </tr>\n",
       "  </tbody>\n",
       "</table>\n",
       "<p>578 rows × 2 columns</p>\n",
       "</div>"
      ],
      "text/plain": [
       "                                         label  number\n",
       "126                     Circumstances_of_death  1453.0\n",
       "321                               MCA_comments  1231.0\n",
       "160                            DNACPR_comments  1010.0\n",
       "135                         Clinical_condition  1003.0\n",
       "322                          Medical_histories   721.0\n",
       "269                            Issues_agencies   720.0\n",
       "463        Professional_health_support_primary   710.0\n",
       "417               Previous_hospital_admissions   698.0\n",
       "323               Medical_intervention_details   689.0\n",
       "112                              Care_plan_EOL   679.0\n",
       "211                        Fam_rel_seemed_good   673.0\n",
       "145          Clinical_history_chest_infections   630.0\n",
       "66                           Any_aids_employed   613.0\n",
       "189                                   Epilepsy   596.0\n",
       "482                     Reasonable_adjustments   584.0\n",
       "233                Good_practice_care_provider   568.0\n",
       "154                    Communication_abilities   565.0\n",
       "570               Useful_material_without_code   538.0\n",
       "77                               Best_practice   529.0\n",
       "566                Swallowing_issues_dysphagia   501.0\n",
       "232            Good_practice_care_coordination   501.0\n",
       "399                 Patients_family_brought_in   499.0\n",
       "197                     Fam_contact_frequently   477.0\n",
       "325                                Medications   466.0\n",
       "202                          Fam_contact_other   458.0\n",
       "271                              Issues_person   455.0\n",
       "423                                  Prof_SALT   450.0\n",
       "21                 AP_raised_care_coordination   435.0\n",
       "76                          Behaviour_problems   425.0\n",
       "576                        Vision_problems_yes   410.0\n",
       "..                                         ...     ...\n",
       "27                   Absences_1_to_4_per_month     1.0\n",
       "92                 CF_healthcare_delay_primary     1.0\n",
       "34                   Acm_Change_1Yr_over_three     1.0\n",
       "89                       CF_care_training_need     1.0\n",
       "41                      Acm_TOD_dur_LT_10years     1.0\n",
       "518                               Seizures_day     1.0\n",
       "182                          Employment_at_TOD     1.0\n",
       "553                  Swallow_breathless_eating     1.0\n",
       "385                                    PT_paid     1.0\n",
       "501         Reasonable_adjustments_quiet_space     1.0\n",
       "479         Professionals_instructions_why_not     1.0\n",
       "478  Professionals_giving_correct_treatment_no     1.0\n",
       "476          Professionals_correct_followup_no     1.0\n",
       "452                  Prof_psychologist_generic     1.0\n",
       "421                                 Prof_GP_no     1.0\n",
       "395                                    Parents     1.0\n",
       "536                                Slow_eating     1.0\n",
       "387                          Paid_carer_agency     1.0\n",
       "347            Number_private_occupants_3_to_5     1.0\n",
       "186                              Epi_care_plan     1.0\n",
       "344                                   No_teeth     1.0\n",
       "542                        Speech_problems_yes     1.0\n",
       "295          Last_health_check_within_3_months     1.0\n",
       "291                    Last_health_check_never     1.0\n",
       "1                             AAA_screening_no     1.0\n",
       "220                    Family_contacts_members     1.0\n",
       "205                    Fam_contact_unspecified     1.0\n",
       "199               Fam_contact_less_than_yearly     1.0\n",
       "195                         Fam_contact_dail1y     1.0\n",
       "0                                AAA_screening     1.0\n",
       "\n",
       "[578 rows x 2 columns]"
      ]
     },
     "execution_count": 5,
     "metadata": {},
     "output_type": "execute_result"
    }
   ],
   "source": [
    "label_count_df"
   ]
  },
  {
   "cell_type": "markdown",
   "metadata": {},
   "source": [
    "# select some labels to try\n",
    "that are not ligher level in the tree, but leaves, and yet have many examples\n",
    "e.g. \n",
    " - Professional_health_support_primary\n",
    " - Care_plan_EOL\n",
    " - Epilepsy"
   ]
  },
  {
   "cell_type": "code",
   "execution_count": 6,
   "metadata": {},
   "outputs": [],
   "source": [
    "import numpy as np\n",
    "from sklearn.naive_bayes import MultinomialNB\n",
    "from sklearn.feature_extraction.text import CountVectorizer\n",
    "import pandas as pd\n",
    "from collections import Counter\n",
    "from sklearn.model_selection import train_test_split\n",
    "from sklearn.feature_extraction.text import TfidfTransformer"
   ]
  },
  {
   "cell_type": "markdown",
   "metadata": {},
   "source": [
    "# Create a LEDER dictinary for key varaibles based on number of times used to date"
   ]
  },
  {
   "cell_type": "code",
   "execution_count": 7,
   "metadata": {},
   "outputs": [],
   "source": [
    "target_dict = {\n",
    "    'MCA_comments':0,\n",
    "    'DNACPR_comments': 1,\n",
    "    'Care_plan_EOL': 2,\n",
    "    'Any_aids_employed': 3,\n",
    "    'Epilepsy': 4,\n",
    "    'Swallowing_issues_dysphagia':5,\n",
    "    'Clinical_history_chest_infections': 6,\n",
    "    'Holidays': 7,\n",
    "    'Behaviour_problems': 8,\n",
    "    'Professional_health_support_primary': 9\n",
    "}"
   ]
  },
  {
   "cell_type": "markdown",
   "metadata": {},
   "source": [
    "Now use this dictionary to select texts  "
   ]
  },
  {
   "cell_type": "code",
   "execution_count": 8,
   "metadata": {},
   "outputs": [
    {
     "name": "stdout",
     "output_type": "stream",
     "text": [
      " variable is  MCA_comments\n",
      "number is  0\n",
      " variable is  DNACPR_comments\n",
      "number is  1\n",
      " variable is  Care_plan_EOL\n",
      "number is  2\n",
      " variable is  Any_aids_employed\n",
      "number is  3\n",
      " variable is  Epilepsy\n",
      "number is  4\n",
      " variable is  Swallowing_issues_dysphagia\n",
      "number is  5\n",
      " variable is  Clinical_history_chest_infections\n",
      "number is  6\n",
      " variable is  Holidays\n",
      "number is  7\n",
      " variable is  Behaviour_problems\n",
      "number is  8\n",
      " variable is  Professional_health_support_primary\n",
      "number is  9\n"
     ]
    }
   ],
   "source": [
    "numbers = []\n",
    "texts_list = []\n",
    "\n",
    "for var in target_dict.keys():\n",
    "    print(' variable is ',var)\n",
    "    temp = master_nvivo_df[[var,var+'_atext']]\n",
    "    temp2 = temp[temp[var] == 1]\n",
    "    # print(temp2.head())\n",
    "    text = temp2[var+'_atext'].tolist()\n",
    "    texts_list.append(text)\n",
    "    \n",
    "    x = len(temp2)\n",
    "    print('number is ',target_dict[var])\n",
    "    # createlist from integer and copied by number of elemnts \n",
    "    l = [ int(item) for item in str(target_dict[var]) ] * x\n",
    "    numbers.append(l)\n",
    "\n",
    "    \n",
    "# now flatten list to get into required format for sklearn SVC\n",
    "flat_list = [item for sublist in numbers for item in sublist]"
   ]
  },
  {
   "cell_type": "code",
   "execution_count": 9,
   "metadata": {},
   "outputs": [
    {
     "data": {
      "text/plain": [
       "array([0, 0, 0, ..., 9, 9, 9])"
      ]
     },
     "execution_count": 9,
     "metadata": {},
     "output_type": "execute_result"
    }
   ],
   "source": [
    "variables_array = np.asarray(flat_list)\n",
    "variables_array"
   ]
  },
  {
   "cell_type": "code",
   "execution_count": 10,
   "metadata": {},
   "outputs": [],
   "source": [
    "texts_list\n",
    "flat_texts_list = [item for sublist in texts_list for item in sublist]\n",
    "#flat_texts_list\n"
   ]
  },
  {
   "cell_type": "code",
   "execution_count": 11,
   "metadata": {},
   "outputs": [],
   "source": [
    "count_vect = CountVectorizer()\n",
    "\n",
    "x_train_counts = count_vect.fit_transform(flat_texts_list)\n"
   ]
  },
  {
   "cell_type": "raw",
   "metadata": {},
   "source": [
    "print(count_vect.get_feature_names())\n"
   ]
  },
  {
   "cell_type": "code",
   "execution_count": 12,
   "metadata": {},
   "outputs": [],
   "source": [
    "tfidf_transformer = TfidfTransformer()\n",
    "x_train_tfidf = tfidf_transformer.fit_transform(x_train_counts)\n"
   ]
  },
  {
   "cell_type": "code",
   "execution_count": 13,
   "metadata": {},
   "outputs": [],
   "source": [
    "train_x, test_x, train_y, test_y = train_test_split(x_train_tfidf, variables_array, test_size=0.3)\n"
   ]
  },
  {
   "cell_type": "markdown",
   "metadata": {},
   "source": [
    "# Naive Bayes"
   ]
  },
  {
   "cell_type": "code",
   "execution_count": 14,
   "metadata": {},
   "outputs": [],
   "source": [
    "clf = MultinomialNB().fit(train_x, train_y)\n",
    "y_score = clf.predict(test_x)"
   ]
  },
  {
   "cell_type": "code",
   "execution_count": 15,
   "metadata": {},
   "outputs": [
    {
     "data": {
      "text/plain": [
       "scipy.sparse.csr.csr_matrix"
      ]
     },
     "execution_count": 15,
     "metadata": {},
     "output_type": "execute_result"
    }
   ],
   "source": [
    "type(train_x)"
   ]
  },
  {
   "cell_type": "code",
   "execution_count": 16,
   "metadata": {},
   "outputs": [
    {
     "data": {
      "text/plain": [
       "2013"
      ]
     },
     "execution_count": 16,
     "metadata": {},
     "output_type": "execute_result"
    }
   ],
   "source": [
    "len(y_score)"
   ]
  },
  {
   "cell_type": "code",
   "execution_count": 17,
   "metadata": {},
   "outputs": [
    {
     "name": "stdout",
     "output_type": "stream",
     "text": [
      "Accuracy: 64.48%\n"
     ]
    }
   ],
   "source": [
    "n_right = 0\n",
    "for i in range(len(y_score)):\n",
    "    if y_score[i] == test_y[i]:\n",
    "        n_right += 1\n",
    "\n",
    "print(\"Accuracy: %.2f%%\" % ((n_right/float(len(test_y)) * 100)))"
   ]
  },
  {
   "cell_type": "markdown",
   "metadata": {},
   "source": [
    "Not a very good accuracy, so try SVM classifier."
   ]
  },
  {
   "cell_type": "markdown",
   "metadata": {},
   "source": [
    "# Using SVM\n"
   ]
  },
  {
   "cell_type": "code",
   "execution_count": 18,
   "metadata": {},
   "outputs": [],
   "source": [
    "from sklearn.svm import SVC\n",
    "clf = SVC(kernel='linear',probability=True).fit(train_x, train_y)"
   ]
  },
  {
   "cell_type": "code",
   "execution_count": 19,
   "metadata": {},
   "outputs": [],
   "source": [
    "y_score = clf.predict(test_x)"
   ]
  },
  {
   "cell_type": "code",
   "execution_count": 20,
   "metadata": {},
   "outputs": [],
   "source": [
    "results = clf.predict_proba(test_x)[1]\n",
    "# gets a dictionary of {'class_name': probability}\n",
    "prob_per_class_dictionary = dict(zip(clf.classes_, results))\n"
   ]
  },
  {
   "cell_type": "code",
   "execution_count": 21,
   "metadata": {},
   "outputs": [
    {
     "data": {
      "text/plain": [
       "{0: 2.860651505950432e-07,\n",
       " 1: 2.0999321381931684e-07,\n",
       " 2: 1.5483333206901903e-07,\n",
       " 3: 4.0240312723859993e-07,\n",
       " 4: 2.094733689692141e-07,\n",
       " 5: 3.656423422521935e-07,\n",
       " 6: 0.9992778625095886,\n",
       " 7: 1.254997091176592e-06,\n",
       " 8: 1.970842994629042e-05,\n",
       " 9: 0.0006995456528388346}"
      ]
     },
     "execution_count": 21,
     "metadata": {},
     "output_type": "execute_result"
    }
   ],
   "source": [
    "prob_per_class_dictionary"
   ]
  },
  {
   "cell_type": "code",
   "execution_count": 22,
   "metadata": {},
   "outputs": [
    {
     "data": {
      "text/plain": [
       "[6, 9, 8, 7, 3, 5, 0, 1, 4, 2]"
      ]
     },
     "execution_count": 22,
     "metadata": {},
     "output_type": "execute_result"
    }
   ],
   "source": [
    "# gets a list of ['most_probable_class', 'second_most_probable_class', ..., 'least_class']\n",
    "results_ordered_by_probability = map(lambda x: x[0], sorted(zip(clf.classes_, results), key=lambda x: x[1], reverse=True))\n",
    "list(results_ordered_by_probability)"
   ]
  },
  {
   "cell_type": "code",
   "execution_count": 23,
   "metadata": {},
   "outputs": [
    {
     "name": "stdout",
     "output_type": "stream",
     "text": [
      "Accuracy: 91.41%\n"
     ]
    }
   ],
   "source": [
    "n_right = 0\n",
    "for i in range(len(y_score)):\n",
    "    if y_score[i] == test_y[i]:\n",
    "        n_right += 1\n",
    "\n",
    "print(\"Accuracy: %.2f%%\" % ((n_right/float(len(test_y)) * 100)))"
   ]
  },
  {
   "cell_type": "code",
   "execution_count": 24,
   "metadata": {},
   "outputs": [
    {
     "data": {
      "text/plain": [
       "10"
      ]
     },
     "execution_count": 24,
     "metadata": {},
     "output_type": "execute_result"
    }
   ],
   "source": [
    "keys = np.array(list(target_dict.keys()))\n",
    "len(keys)"
   ]
  },
  {
   "cell_type": "code",
   "execution_count": 25,
   "metadata": {
    "scrolled": true
   },
   "outputs": [
    {
     "name": "stdout",
     "output_type": "stream",
     "text": [
      "Confusion matrix, without normalization\n",
      "[[365  18   9   3   1   0   1   1   0   2]\n",
      " [ 13 259  16   0   0   2   3   0   0   3]\n",
      " [  6  12 176   0   1   0   2   0   1   2]\n",
      " [  6   0   1 175   0   2   0   1   0   1]\n",
      " [  0   0   1   0 174   1   1   0   2   2]\n",
      " [  3   0   1   1   2 123   6   0   0   3]\n",
      " [  3   1   0   0   1   2 173   0   0   6]\n",
      " [  1   0   0   0   0   0   0  86   0   1]\n",
      " [  4   0   0   2   1   3   1   0 115   1]\n",
      " [  3   2   1   1   1   0   7   0   1 194]]\n"
     ]
    },
    {
     "data": {
      "image/png": "[encoded data removed]",
      "text/plain": [
       "<Figure size 1800x1800 with 1 Axes>"
      ]
     },
     "metadata": {},
     "output_type": "display_data"
    }
   ],
   "source": [
    "from sklearn.metrics import confusion_matrix\n",
    "\n",
    "\n",
    "def plot_confusion_matrix(cm, title='Confusion matrix', cmap=plt.cm.Blues):\n",
    "    plt.imshow(cm, interpolation='nearest', cmap=cmap)\n",
    "    plt.title(title + \" - Accuracy: %.2f%%\" % ((n_right/float(len(test_y)) * 100)))\n",
    "    # plt.colorbar()\n",
    "    #plt.tight_layout()\n",
    "    plt.ylabel('True label')\n",
    "    plt.xlabel('Predicted label')\n",
    "    plt.xticks(np.arange(len(keys)), keys, rotation=90)\n",
    "    plt.yticks(np.arange(len(keys)), keys, rotation=0)\n",
    "    fmt = 'd'\n",
    "    thresh = cm.max() / 2.\n",
    "    for i in range(cm.shape[0]):\n",
    "        for j in range(cm.shape[1]):\n",
    "            plt.text(j, i, format(cm[i, j], fmt),\n",
    "                    ha=\"center\", va=\"center\",\n",
    "                    color=\"white\" if cm[i, j] > thresh else \"black\")    \n",
    "    plt.savefig('confusion_matrix.pdf')\n",
    "    \n",
    "# Compute confusion matrix\n",
    "cm = confusion_matrix(test_y, y_score)\n",
    "np.set_printoptions(precision=2)\n",
    "print('Confusion matrix, without normalization')\n",
    "print(cm)\n",
    "plt.figure(figsize=(25,25))\n",
    "plot_confusion_matrix(cm)"
   ]
  },
  {
   "cell_type": "markdown",
   "metadata": {},
   "source": [
    "# Need to apply to free text though, not to selected texts, which exclude much and so likely bias result\n"
   ]
  },
  {
   "cell_type": "code",
   "execution_count": 26,
   "metadata": {},
   "outputs": [
    {
     "name": "stdout",
     "output_type": "stream",
     "text": [
      "CCR_SPSS file used =  Combined-Case-Reviews-SPSS-2019-07-03-0101.csv\n"
     ]
    }
   ],
   "source": [
    "# get a list of strings (sentences or paragraphs?) from a real case\n",
    "\n",
    "import os\n",
    "\n",
    "# get latest filename for CCR_SPSS from folder in Leder Confidential\n",
    "# Note that this SPSS-ready  file takes yes/no and makes them digit 1 or 2, for example, in certain columns\n",
    "ccr_spss_folder_path = ('\\\\\\\\ads\\\\filestore\\\\Deaf_Studies\\\\Deaf\\\\nfrc\\\\LeDeR confidential\\\\Data Entry\\\\csv files\\\\Combined Case Review csvs\\\\')\n",
    "\n",
    "# get list of filenames that match pattern of proper CCR SPSS files\n",
    "ccr_spss_files_names = []\n",
    "for root, directories, files in os.walk(ccr_spss_folder_path):\n",
    "    for filename in files:\n",
    "        if (filename[0:26]=='Combined-Case-Reviews-SPSS'):\n",
    "            if (filename[42:]=='.csv'):\n",
    "                ccr_spss_files_names.append(filename)\n",
    "\n",
    "ccr_spss_files_names.sort(reverse=True)\n",
    "latest_ccr_spss_file = ccr_spss_files_names[0]\n",
    "# print latest filename as sanity check\n",
    "print('CCR_SPSS file used = ', latest_ccr_spss_file)\n",
    "\n",
    "# read in latest Combined Case Reviews SPSS data to a df\n",
    "ccr_spss_path = ('\\\\\\\\ads\\\\filestore\\\\Deaf_Studies\\\\Deaf\\\\nfrc\\\\LeDeR confidential\\\\Data Entry\\\\csv files\\\\Combined Case Review csvs\\\\' + latest_ccr_spss_file)\n",
    "ccr_spss_reader = pd.read_csv(ccr_spss_path, low_memory=False)\n",
    "ccr_spss_all_df = pd.DataFrame(ccr_spss_reader)\n",
    "ccr_spss_all_df[['IRVersion']] = ccr_spss_all_df[['IRVersion']].astype(str)\n",
    "\n",
    "ccr_spss_df = ccr_spss_all_df[ccr_spss_all_df.fileDate!='DISREGARDED'].copy()\n",
    "ccr_spss_completed_df = ccr_spss_df[(ccr_spss_df['Stage Numbered']==7)].copy() # stage = archived\n"
   ]
  },
  {
   "cell_type": "markdown",
   "metadata": {},
   "source": [
    "# All cells below are deactivated as they would display personal data from a medical case"
   ]
  },
  {
   "cell_type": "raw",
   "metadata": {},
   "source": [
    "first_case = ccr_spss_completed_df[1:2]\n",
    "list(first_case.columns)\n",
    "example_case_text = first_case.IR_RevPenPort_IR10c.values\n",
    "\n",
    "print(example_case_text)\n",
    "\n",
    "docs_new = list(example_case_text)\n",
    "print(docs_new)\n",
    "\n",
    "X_new_counts = count_vect.transform(docs_new)\n",
    "X_new_tfidf = tfidf_transformer.transform(X_new_counts)\n",
    "predicted = clf.predict(X_new_tfidf)\n",
    "\n",
    "\n",
    "predicted"
   ]
  },
  {
   "cell_type": "raw",
   "metadata": {},
   "source": [
    "len(predicted)"
   ]
  },
  {
   "cell_type": "raw",
   "metadata": {},
   "source": [
    "results = clf.predict_proba(X_new_tfidf)[0]\n",
    "# gets a dictionary of {'class_name': probability}\n",
    "prob_per_class_dictionary = dict(zip(clf.classes_, results))\n"
   ]
  },
  {
   "cell_type": "raw",
   "metadata": {},
   "source": [
    "results"
   ]
  },
  {
   "cell_type": "raw",
   "metadata": {},
   "source": [
    "prob_per_class_dictionary"
   ]
  },
  {
   "cell_type": "raw",
   "metadata": {},
   "source": [
    "\n",
    "\n",
    "\n",
    "for n in range(len(predicted)):\n",
    "    results = clf.predict_proba(X_new_tfidf)[n]\n",
    "    #%%! gets a dictionary of {'class_name': probability}\n",
    "    prob_per_class_dictionary = dict(zip(clf.classes_, results))\n",
    "    for k, v in prob_per_class_dictionary.items():\n",
    "        prob_per_class_dictionary[k] = round(v,2)\n",
    "    \n",
    "    print(' n = ',n)\n",
    "    print(docs_new[n])\n",
    "    print(prob_per_class_dictionary)\n",
    "\n",
    "    print('\\n')"
   ]
  },
  {
   "cell_type": "code",
   "execution_count": 27,
   "metadata": {},
   "outputs": [
    {
     "name": "stdout",
     "output_type": "stream",
     "text": [
      "JOB COMPLETE AT:  2019-07-04 11:21:25\n"
     ]
    }
   ],
   "source": [
    "import datetime\n",
    "print('JOB COMPLETE AT: ',str(datetime.datetime.now()).split('.')[0])\n"
   ]
  },
  {
   "cell_type": "code",
   "execution_count": null,
   "metadata": {},
   "outputs": [],
   "source": []
  }
 ],
 "metadata": {
  "kernelspec": {
   "display_name": "Python 3",
   "language": "python",
   "name": "python3"
  },
  "language_info": {
   "codemirror_mode": {
    "name": "ipython",
    "version": 3
   },
   "file_extension": ".py",
   "mimetype": "text/x-python",
   "name": "python",
   "nbconvert_exporter": "python",
   "pygments_lexer": "ipython3",
   "version": "3.6.5"
  }
 },
 "nbformat": 4,
 "nbformat_minor": 2
}
